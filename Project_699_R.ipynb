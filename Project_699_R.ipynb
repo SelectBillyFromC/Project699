{
  "nbformat": 4,
  "nbformat_minor": 0,
  "metadata": {
    "colab": {
      "name": "Project_699_R.ipynb",
      "provenance": [],
      "collapsed_sections": [],
      "include_colab_link": true
    },
    "kernelspec": {
      "name": "ir",
      "display_name": "R"
    },
    "language_info": {
      "name": "R"
    }
  },
  "cells": [
    {
      "cell_type": "markdown",
      "metadata": {
        "id": "view-in-github",
        "colab_type": "text"
      },
      "source": [
        "<a href=\"https://colab.research.google.com/github/SelectBillyFromC/Project699/blob/main/Project_699_R.ipynb\" target=\"_parent\"><img src=\"https://colab.research.google.com/assets/colab-badge.svg\" alt=\"Open In Colab\"/></a>"
      ]
    },
    {
      "cell_type": "code",
      "metadata": {
        "id": "-RJWNylWmXJh",
        "colab": {
          "base_uri": "https://localhost:8080/",
          "height": 272
        },
        "outputId": "8a6689bd-2284-402e-9ec2-f7fa8e79bdbe"
      },
      "source": [
        "R.version"
      ],
      "execution_count": null,
      "outputs": [
        {
          "output_type": "display_data",
          "data": {
            "text/plain": [
              "               _                           \n",
              "platform       x86_64-pc-linux-gnu         \n",
              "arch           x86_64                      \n",
              "os             linux-gnu                   \n",
              "system         x86_64, linux-gnu           \n",
              "status                                     \n",
              "major          4                           \n",
              "minor          1.1                         \n",
              "year           2021                        \n",
              "month          08                          \n",
              "day            10                          \n",
              "svn rev        80725                       \n",
              "language       R                           \n",
              "version.string R version 4.1.1 (2021-08-10)\n",
              "nickname       Kick Things                 "
            ]
          },
          "metadata": {}
        }
      ]
    },
    {
      "cell_type": "code",
      "metadata": {
        "id": "wlmnAW0gmpAH",
        "colab": {
          "base_uri": "https://localhost:8080/",
          "height": 34
        },
        "outputId": "8a748c41-81ff-40eb-c129-3eaa1ff2a791"
      },
      "source": [
        "getwd()"
      ],
      "execution_count": null,
      "outputs": [
        {
          "output_type": "display_data",
          "data": {
            "text/plain": [
              "[1] \"/content\""
            ],
            "text/latex": "'/content'",
            "text/markdown": "'/content'",
            "text/html": [
              "'/content'"
            ]
          },
          "metadata": {}
        }
      ]
    },
    {
      "cell_type": "code",
      "metadata": {
        "id": "DZg1TDI-ntZu",
        "colab": {
          "base_uri": "https://localhost:8080/"
        },
        "outputId": "b0aace94-ded9-4f92-9928-9ac19c2317fc"
      },
      "source": [
        "library('tidyverse')\n"
      ],
      "execution_count": null,
      "outputs": [
        {
          "output_type": "stream",
          "name": "stderr",
          "text": [
            "Warning message in system(\"timedatectl\", intern = TRUE):\n",
            "“running command 'timedatectl' had status 1”\n",
            "── \u001b[1mAttaching packages\u001b[22m ─────────────────────────────────────── tidyverse 1.3.1 ──\n",
            "\n",
            "\u001b[32m✔\u001b[39m \u001b[34mggplot2\u001b[39m 3.3.5     \u001b[32m✔\u001b[39m \u001b[34mpurrr  \u001b[39m 0.3.4\n",
            "\u001b[32m✔\u001b[39m \u001b[34mtibble \u001b[39m 3.1.5     \u001b[32m✔\u001b[39m \u001b[34mdplyr  \u001b[39m 1.0.7\n",
            "\u001b[32m✔\u001b[39m \u001b[34mtidyr  \u001b[39m 1.1.4     \u001b[32m✔\u001b[39m \u001b[34mstringr\u001b[39m 1.4.0\n",
            "\u001b[32m✔\u001b[39m \u001b[34mreadr  \u001b[39m 2.0.2     \u001b[32m✔\u001b[39m \u001b[34mforcats\u001b[39m 0.5.1\n",
            "\n",
            "── \u001b[1mConflicts\u001b[22m ────────────────────────────────────────── tidyverse_conflicts() ──\n",
            "\u001b[31m✖\u001b[39m \u001b[34mdplyr\u001b[39m::\u001b[32mfilter()\u001b[39m masks \u001b[34mstats\u001b[39m::filter()\n",
            "\u001b[31m✖\u001b[39m \u001b[34mdplyr\u001b[39m::\u001b[32mlag()\u001b[39m    masks \u001b[34mstats\u001b[39m::lag()\n",
            "\n"
          ]
        }
      ]
    },
    {
      "cell_type": "code",
      "metadata": {
        "id": "ir385BV8na8G",
        "colab": {
          "base_uri": "https://localhost:8080/",
          "height": 422
        },
        "outputId": "85790ea3-30e0-40a3-c274-66118e5bfdbc"
      },
      "source": [
        "csv <- read.csv('Final_Report_of_the_Asian_American_Quality_of_Life__AAQoL_.csv')\n",
        "tib <- as_tibble(csv)\n",
        "head(tib)"
      ],
      "execution_count": null,
      "outputs": [
        {
          "output_type": "display_data",
          "data": {
            "text/plain": [
              "  Survey.ID Age Gender Ethnicity    Marital.Status Education.Completed\n",
              "1   80314   NA         Vietnamese                  NA                 \n",
              "2   60171   60  Male   Chinese      Married        13                 \n",
              "3 1011601   23  Female Chinese      Single         16                 \n",
              "4   50046   73  Female Chinese      Other          13                 \n",
              "5   10494   29  Male   Asian Indian Single         17                 \n",
              "6   10786   34  Female Asian Indian Married        17                 \n",
              "  Household.Size No.One             Spouse             Children             ⋯\n",
              "1 NA                                                                        ⋯\n",
              "2  6             0                  0                  Living with children ⋯\n",
              "3  3             0                  0                  0                    ⋯\n",
              "4  1             Living with no one 0                  0                    ⋯\n",
              "5  1             Living with no one 0                  0                    ⋯\n",
              "6  3             0                  Living with spouse Living with children ⋯\n",
              "  Other.Description..Non.city.based.Ethnic. Paper..Non.city.based.General.\n",
              "1                                                                         \n",
              "2                                                                         \n",
              "3                                           No                            \n",
              "4                                                                         \n",
              "5                                                                         \n",
              "6                                                                         \n",
              "  TV.Radio..Non.city.based.General. Website..Non.city.based.General.\n",
              "1                                                                   \n",
              "2                                                                   \n",
              "3 No                                No                              \n",
              "4                                                                   \n",
              "5                                                                   \n",
              "6                                                                   \n",
              "  Social.Networks..Non.city.based.General. People..Non.city.based.General.\n",
              "1                                                                         \n",
              "2                                                                         \n",
              "3 No                                       Yes                            \n",
              "4                                                                         \n",
              "5                                                                         \n",
              "6                                                                         \n",
              "  Other..Non.city.based.General. Other.Description..Non.city.based.General.\n",
              "1                                                                          \n",
              "2                                                                          \n",
              "3 No                                                                       \n",
              "4                                                                          \n",
              "5                                                                          \n",
              "6                                                                          \n",
              "  Preferred.Type Concerns\n",
              "1                        \n",
              "2                        \n",
              "3 email          traffic \n",
              "4                        \n",
              "5                        \n",
              "6                        "
            ],
            "text/latex": "A tibble: 6 × 231\n\\begin{tabular}{lllllllllllllllllllll}\n Survey.ID & Age & Gender & Ethnicity & Marital.Status & Education.Completed & Household.Size & No.One & Spouse & Children & ⋯ & Other.Description..Non.city.based.Ethnic. & Paper..Non.city.based.General. & TV.Radio..Non.city.based.General. & Website..Non.city.based.General. & Social.Networks..Non.city.based.General. & People..Non.city.based.General. & Other..Non.city.based.General. & Other.Description..Non.city.based.General. & Preferred.Type & Concerns\\\\\n <int> & <int> & <chr> & <chr> & <chr> & <int> & <int> & <chr> & <chr> & <chr> & ⋯ & <chr> & <chr> & <chr> & <chr> & <chr> & <chr> & <chr> & <chr> & <chr> & <chr>\\\\\n\\hline\n\t   80314 & NA &        & Vietnamese   &         & NA & NA &                    &                    &                      & ⋯ &  &    &    &    &    &     &    &  &       &        \\\\\n\t   60171 & 60 & Male   & Chinese      & Married & 13 &  6 & 0                  & 0                  & Living with children & ⋯ &  &    &    &    &    &     &    &  &       &        \\\\\n\t 1011601 & 23 & Female & Chinese      & Single  & 16 &  3 & 0                  & 0                  & 0                    & ⋯ &  & No & No & No & No & Yes & No &  & email & traffic\\\\\n\t   50046 & 73 & Female & Chinese      & Other   & 13 &  1 & Living with no one & 0                  & 0                    & ⋯ &  &    &    &    &    &     &    &  &       &        \\\\\n\t   10494 & 29 & Male   & Asian Indian & Single  & 17 &  1 & Living with no one & 0                  & 0                    & ⋯ &  &    &    &    &    &     &    &  &       &        \\\\\n\t   10786 & 34 & Female & Asian Indian & Married & 17 &  3 & 0                  & Living with spouse & Living with children & ⋯ &  &    &    &    &    &     &    &  &       &        \\\\\n\\end{tabular}\n",
            "text/markdown": "\nA tibble: 6 × 231\n\n| Survey.ID &lt;int&gt; | Age &lt;int&gt; | Gender &lt;chr&gt; | Ethnicity &lt;chr&gt; | Marital.Status &lt;chr&gt; | Education.Completed &lt;int&gt; | Household.Size &lt;int&gt; | No.One &lt;chr&gt; | Spouse &lt;chr&gt; | Children &lt;chr&gt; | ⋯ ⋯ | Other.Description..Non.city.based.Ethnic. &lt;chr&gt; | Paper..Non.city.based.General. &lt;chr&gt; | TV.Radio..Non.city.based.General. &lt;chr&gt; | Website..Non.city.based.General. &lt;chr&gt; | Social.Networks..Non.city.based.General. &lt;chr&gt; | People..Non.city.based.General. &lt;chr&gt; | Other..Non.city.based.General. &lt;chr&gt; | Other.Description..Non.city.based.General. &lt;chr&gt; | Preferred.Type &lt;chr&gt; | Concerns &lt;chr&gt; |\n|---|---|---|---|---|---|---|---|---|---|---|---|---|---|---|---|---|---|---|---|---|\n|   80314 | NA | <!----> | Vietnamese   | <!----> | NA | NA | <!----> | <!----> | <!----> | ⋯ | <!----> | <!----> | <!----> | <!----> | <!----> | <!----> | <!----> | <!----> | <!----> | <!----> |\n|   60171 | 60 | Male   | Chinese      | Married | 13 |  6 | 0                  | 0                  | Living with children | ⋯ | <!----> | <!----> | <!----> | <!----> | <!----> | <!----> | <!----> | <!----> | <!----> | <!----> |\n| 1011601 | 23 | Female | Chinese      | Single  | 16 |  3 | 0                  | 0                  | 0                    | ⋯ | <!----> | No | No | No | No | Yes | No | <!----> | email | traffic |\n|   50046 | 73 | Female | Chinese      | Other   | 13 |  1 | Living with no one | 0                  | 0                    | ⋯ | <!----> | <!----> | <!----> | <!----> | <!----> | <!----> | <!----> | <!----> | <!----> | <!----> |\n|   10494 | 29 | Male   | Asian Indian | Single  | 17 |  1 | Living with no one | 0                  | 0                    | ⋯ | <!----> | <!----> | <!----> | <!----> | <!----> | <!----> | <!----> | <!----> | <!----> | <!----> |\n|   10786 | 34 | Female | Asian Indian | Married | 17 |  3 | 0                  | Living with spouse | Living with children | ⋯ | <!----> | <!----> | <!----> | <!----> | <!----> | <!----> | <!----> | <!----> | <!----> | <!----> |\n\n",
            "text/html": [
              "<table class=\"dataframe\">\n",
              "<caption>A tibble: 6 × 231</caption>\n",
              "<thead>\n",
              "\t<tr><th scope=col>Survey.ID</th><th scope=col>Age</th><th scope=col>Gender</th><th scope=col>Ethnicity</th><th scope=col>Marital.Status</th><th scope=col>Education.Completed</th><th scope=col>Household.Size</th><th scope=col>No.One</th><th scope=col>Spouse</th><th scope=col>Children</th><th scope=col>⋯</th><th scope=col>Other.Description..Non.city.based.Ethnic.</th><th scope=col>Paper..Non.city.based.General.</th><th scope=col>TV.Radio..Non.city.based.General.</th><th scope=col>Website..Non.city.based.General.</th><th scope=col>Social.Networks..Non.city.based.General.</th><th scope=col>People..Non.city.based.General.</th><th scope=col>Other..Non.city.based.General.</th><th scope=col>Other.Description..Non.city.based.General.</th><th scope=col>Preferred.Type</th><th scope=col>Concerns</th></tr>\n",
              "\t<tr><th scope=col>&lt;int&gt;</th><th scope=col>&lt;int&gt;</th><th scope=col>&lt;chr&gt;</th><th scope=col>&lt;chr&gt;</th><th scope=col>&lt;chr&gt;</th><th scope=col>&lt;int&gt;</th><th scope=col>&lt;int&gt;</th><th scope=col>&lt;chr&gt;</th><th scope=col>&lt;chr&gt;</th><th scope=col>&lt;chr&gt;</th><th scope=col>⋯</th><th scope=col>&lt;chr&gt;</th><th scope=col>&lt;chr&gt;</th><th scope=col>&lt;chr&gt;</th><th scope=col>&lt;chr&gt;</th><th scope=col>&lt;chr&gt;</th><th scope=col>&lt;chr&gt;</th><th scope=col>&lt;chr&gt;</th><th scope=col>&lt;chr&gt;</th><th scope=col>&lt;chr&gt;</th><th scope=col>&lt;chr&gt;</th></tr>\n",
              "</thead>\n",
              "<tbody>\n",
              "\t<tr><td>  80314</td><td>NA</td><td>      </td><td>Vietnamese  </td><td>       </td><td>NA</td><td>NA</td><td>                  </td><td>                  </td><td>                    </td><td>⋯</td><td></td><td>  </td><td>  </td><td>  </td><td>  </td><td>   </td><td>  </td><td></td><td>     </td><td>       </td></tr>\n",
              "\t<tr><td>  60171</td><td>60</td><td>Male  </td><td>Chinese     </td><td>Married</td><td>13</td><td> 6</td><td>0                 </td><td>0                 </td><td>Living with children</td><td>⋯</td><td></td><td>  </td><td>  </td><td>  </td><td>  </td><td>   </td><td>  </td><td></td><td>     </td><td>       </td></tr>\n",
              "\t<tr><td>1011601</td><td>23</td><td>Female</td><td>Chinese     </td><td>Single </td><td>16</td><td> 3</td><td>0                 </td><td>0                 </td><td>0                   </td><td>⋯</td><td></td><td>No</td><td>No</td><td>No</td><td>No</td><td>Yes</td><td>No</td><td></td><td>email</td><td>traffic</td></tr>\n",
              "\t<tr><td>  50046</td><td>73</td><td>Female</td><td>Chinese     </td><td>Other  </td><td>13</td><td> 1</td><td>Living with no one</td><td>0                 </td><td>0                   </td><td>⋯</td><td></td><td>  </td><td>  </td><td>  </td><td>  </td><td>   </td><td>  </td><td></td><td>     </td><td>       </td></tr>\n",
              "\t<tr><td>  10494</td><td>29</td><td>Male  </td><td>Asian Indian</td><td>Single </td><td>17</td><td> 1</td><td>Living with no one</td><td>0                 </td><td>0                   </td><td>⋯</td><td></td><td>  </td><td>  </td><td>  </td><td>  </td><td>   </td><td>  </td><td></td><td>     </td><td>       </td></tr>\n",
              "\t<tr><td>  10786</td><td>34</td><td>Female</td><td>Asian Indian</td><td>Married</td><td>17</td><td> 3</td><td>0                 </td><td>Living with spouse</td><td>Living with children</td><td>⋯</td><td></td><td>  </td><td>  </td><td>  </td><td>  </td><td>   </td><td>  </td><td></td><td>     </td><td>       </td></tr>\n",
              "</tbody>\n",
              "</table>\n"
            ]
          },
          "metadata": {}
        }
      ]
    },
    {
      "cell_type": "markdown",
      "metadata": {
        "id": "zcfENrpwpCAO"
      },
      "source": [
        "Called the dataset here to env locally.. I'm not sure if we can mount Google Drive here. Let's see if the data stays in the dir."
      ]
    },
    {
      "cell_type": "code",
      "metadata": {
        "id": "ZmhULiJqr_s4",
        "colab": {
          "base_uri": "https://localhost:8080/",
          "height": 314
        },
        "outputId": "5c5e6488-8e86-4dce-87ea-43b525adcc0e"
      },
      "source": [
        "tib %>% count(Ethnicity)"
      ],
      "execution_count": null,
      "outputs": [
        {
          "output_type": "display_data",
          "data": {
            "text/plain": [
              "  Ethnicity    n  \n",
              "1                2\n",
              "2 Asian Indian 574\n",
              "3 Chinese      639\n",
              "4 Filipino     265\n",
              "5 Korean       471\n",
              "6 Other        144\n",
              "7 Vietnamese   514"
            ],
            "text/latex": "A tibble: 7 × 2\n\\begin{tabular}{ll}\n Ethnicity & n\\\\\n <chr> & <int>\\\\\n\\hline\n\t              &   2\\\\\n\t Asian Indian & 574\\\\\n\t Chinese      & 639\\\\\n\t Filipino     & 265\\\\\n\t Korean       & 471\\\\\n\t Other        & 144\\\\\n\t Vietnamese   & 514\\\\\n\\end{tabular}\n",
            "text/markdown": "\nA tibble: 7 × 2\n\n| Ethnicity &lt;chr&gt; | n &lt;int&gt; |\n|---|---|\n| <!----> |   2 |\n| Asian Indian | 574 |\n| Chinese      | 639 |\n| Filipino     | 265 |\n| Korean       | 471 |\n| Other        | 144 |\n| Vietnamese   | 514 |\n\n",
            "text/html": [
              "<table class=\"dataframe\">\n",
              "<caption>A tibble: 7 × 2</caption>\n",
              "<thead>\n",
              "\t<tr><th scope=col>Ethnicity</th><th scope=col>n</th></tr>\n",
              "\t<tr><th scope=col>&lt;chr&gt;</th><th scope=col>&lt;int&gt;</th></tr>\n",
              "</thead>\n",
              "<tbody>\n",
              "\t<tr><td>            </td><td>  2</td></tr>\n",
              "\t<tr><td>Asian Indian</td><td>574</td></tr>\n",
              "\t<tr><td>Chinese     </td><td>639</td></tr>\n",
              "\t<tr><td>Filipino    </td><td>265</td></tr>\n",
              "\t<tr><td>Korean      </td><td>471</td></tr>\n",
              "\t<tr><td>Other       </td><td>144</td></tr>\n",
              "\t<tr><td>Vietnamese  </td><td>514</td></tr>\n",
              "</tbody>\n",
              "</table>\n"
            ]
          },
          "metadata": {}
        }
      ]
    },
    {
      "cell_type": "code",
      "metadata": {
        "colab": {
          "base_uri": "https://localhost:8080/",
          "height": 147
        },
        "id": "-1MvDKXG1MHg",
        "outputId": "241ef333-92a0-47c5-deba-ef830a3f06ca"
      },
      "source": [
        "tib %>% summarise(across(everything(), ~ sum(is.na(.))))"
      ],
      "execution_count": null,
      "outputs": [
        {
          "output_type": "display_data",
          "data": {
            "text/plain": [
              "  Survey.ID Age Gender Ethnicity Marital.Status Education.Completed\n",
              "1 0         9   0      0         0              37                 \n",
              "  Household.Size No.One Spouse Children ⋯\n",
              "1 17             0      0      0        ⋯\n",
              "  Other.Description..Non.city.based.Ethnic. Paper..Non.city.based.General.\n",
              "1 0                                         0                             \n",
              "  TV.Radio..Non.city.based.General. Website..Non.city.based.General.\n",
              "1 0                                 0                               \n",
              "  Social.Networks..Non.city.based.General. People..Non.city.based.General.\n",
              "1 0                                        0                              \n",
              "  Other..Non.city.based.General. Other.Description..Non.city.based.General.\n",
              "1 0                              0                                         \n",
              "  Preferred.Type Concerns\n",
              "1 0              0       "
            ],
            "text/latex": "A tibble: 1 × 231\n\\begin{tabular}{lllllllllllllllllllll}\n Survey.ID & Age & Gender & Ethnicity & Marital.Status & Education.Completed & Household.Size & No.One & Spouse & Children & ⋯ & Other.Description..Non.city.based.Ethnic. & Paper..Non.city.based.General. & TV.Radio..Non.city.based.General. & Website..Non.city.based.General. & Social.Networks..Non.city.based.General. & People..Non.city.based.General. & Other..Non.city.based.General. & Other.Description..Non.city.based.General. & Preferred.Type & Concerns\\\\\n <int> & <int> & <int> & <int> & <int> & <int> & <int> & <int> & <int> & <int> & ⋯ & <int> & <int> & <int> & <int> & <int> & <int> & <int> & <int> & <int> & <int>\\\\\n\\hline\n\t 0 & 9 & 0 & 0 & 0 & 37 & 17 & 0 & 0 & 0 & ⋯ & 0 & 0 & 0 & 0 & 0 & 0 & 0 & 0 & 0 & 0\\\\\n\\end{tabular}\n",
            "text/markdown": "\nA tibble: 1 × 231\n\n| Survey.ID &lt;int&gt; | Age &lt;int&gt; | Gender &lt;int&gt; | Ethnicity &lt;int&gt; | Marital.Status &lt;int&gt; | Education.Completed &lt;int&gt; | Household.Size &lt;int&gt; | No.One &lt;int&gt; | Spouse &lt;int&gt; | Children &lt;int&gt; | ⋯ ⋯ | Other.Description..Non.city.based.Ethnic. &lt;int&gt; | Paper..Non.city.based.General. &lt;int&gt; | TV.Radio..Non.city.based.General. &lt;int&gt; | Website..Non.city.based.General. &lt;int&gt; | Social.Networks..Non.city.based.General. &lt;int&gt; | People..Non.city.based.General. &lt;int&gt; | Other..Non.city.based.General. &lt;int&gt; | Other.Description..Non.city.based.General. &lt;int&gt; | Preferred.Type &lt;int&gt; | Concerns &lt;int&gt; |\n|---|---|---|---|---|---|---|---|---|---|---|---|---|---|---|---|---|---|---|---|---|\n| 0 | 9 | 0 | 0 | 0 | 37 | 17 | 0 | 0 | 0 | ⋯ | 0 | 0 | 0 | 0 | 0 | 0 | 0 | 0 | 0 | 0 |\n\n",
            "text/html": [
              "<table class=\"dataframe\">\n",
              "<caption>A tibble: 1 × 231</caption>\n",
              "<thead>\n",
              "\t<tr><th scope=col>Survey.ID</th><th scope=col>Age</th><th scope=col>Gender</th><th scope=col>Ethnicity</th><th scope=col>Marital.Status</th><th scope=col>Education.Completed</th><th scope=col>Household.Size</th><th scope=col>No.One</th><th scope=col>Spouse</th><th scope=col>Children</th><th scope=col>⋯</th><th scope=col>Other.Description..Non.city.based.Ethnic.</th><th scope=col>Paper..Non.city.based.General.</th><th scope=col>TV.Radio..Non.city.based.General.</th><th scope=col>Website..Non.city.based.General.</th><th scope=col>Social.Networks..Non.city.based.General.</th><th scope=col>People..Non.city.based.General.</th><th scope=col>Other..Non.city.based.General.</th><th scope=col>Other.Description..Non.city.based.General.</th><th scope=col>Preferred.Type</th><th scope=col>Concerns</th></tr>\n",
              "\t<tr><th scope=col>&lt;int&gt;</th><th scope=col>&lt;int&gt;</th><th scope=col>&lt;int&gt;</th><th scope=col>&lt;int&gt;</th><th scope=col>&lt;int&gt;</th><th scope=col>&lt;int&gt;</th><th scope=col>&lt;int&gt;</th><th scope=col>&lt;int&gt;</th><th scope=col>&lt;int&gt;</th><th scope=col>&lt;int&gt;</th><th scope=col>⋯</th><th scope=col>&lt;int&gt;</th><th scope=col>&lt;int&gt;</th><th scope=col>&lt;int&gt;</th><th scope=col>&lt;int&gt;</th><th scope=col>&lt;int&gt;</th><th scope=col>&lt;int&gt;</th><th scope=col>&lt;int&gt;</th><th scope=col>&lt;int&gt;</th><th scope=col>&lt;int&gt;</th><th scope=col>&lt;int&gt;</th></tr>\n",
              "</thead>\n",
              "<tbody>\n",
              "\t<tr><td>0</td><td>9</td><td>0</td><td>0</td><td>0</td><td>37</td><td>17</td><td>0</td><td>0</td><td>0</td><td>⋯</td><td>0</td><td>0</td><td>0</td><td>0</td><td>0</td><td>0</td><td>0</td><td>0</td><td>0</td><td>0</td></tr>\n",
              "</tbody>\n",
              "</table>\n"
            ]
          },
          "metadata": {}
        }
      ]
    },
    {
      "cell_type": "code",
      "metadata": {
        "id": "qxwlrpdT2i7E"
      },
      "source": [
        "tib1 <- tib[complete.cases(tib[ , 2:7]),]\n",
        "\n",
        "summary_na <- function(v){\n",
        "  if(!any(is.na(v))){\n",
        "    res <- c(summary(v),\"NA's\"=0)\n",
        "  } else{\n",
        "    res <- summary(v)\n",
        "  }\n",
        "  return(res)\n",
        "}\n",
        "\n",
        "nrow(tib)\n",
        "summary_na(tib1)"
      ],
      "execution_count": null,
      "outputs": []
    },
    {
      "cell_type": "markdown",
      "metadata": {
        "id": "9jfqaTgJCgrD"
      },
      "source": [
        "Removing NA values for metadata of each survey IDs"
      ]
    },
    {
      "cell_type": "code",
      "metadata": {
        "id": "5eCkLC7W-oBg"
      },
      "source": [
        "lapply(select_if(tib1, is.numeric), function(x) all(x < 0))"
      ],
      "execution_count": null,
      "outputs": []
    },
    {
      "cell_type": "markdown",
      "metadata": {
        "id": "lfYoiIZQCPTS"
      },
      "source": [
        "Checking for noisy data. If any numeric variables contain negative observations, omit."
      ]
    },
    {
      "cell_type": "code",
      "metadata": {
        "colab": {
          "base_uri": "https://localhost:8080/",
          "height": 1000
        },
        "id": "k2F_nbNLGtOO",
        "outputId": "056a0893-9e74-449e-aba0-28bac14a16f6"
      },
      "source": [
        "as.data.frame(colnames(tib1))"
      ],
      "execution_count": null,
      "outputs": [
        {
          "output_type": "display_data",
          "data": {
            "text/plain": [
              "    colnames(tib1)                            \n",
              "1   Survey.ID                                 \n",
              "2   Age                                       \n",
              "3   Gender                                    \n",
              "4   Ethnicity                                 \n",
              "5   Marital.Status                            \n",
              "6   Education.Completed                       \n",
              "7   Household.Size                            \n",
              "8   No.One                                    \n",
              "9   Spouse                                    \n",
              "10  Children                                  \n",
              "11  Grand.Children                            \n",
              "12  Parent                                    \n",
              "13  Grandparent                               \n",
              "14  Brother.Sister                            \n",
              "15  Other.Relative                            \n",
              "16  Friends                                   \n",
              "17  Other                                     \n",
              "18  Other.Description                         \n",
              "19  Religion                                  \n",
              "20  Religion.Other                            \n",
              "21  Full.Time.Employment                      \n",
              "22  Part.Time.Employment                      \n",
              "23  Self.Employed.Full.Time                   \n",
              "24  Self.Employed.Part.Time                   \n",
              "25  Student                                   \n",
              "26  Homemaker                                 \n",
              "27  Disabled                                  \n",
              "28  Unemployed                                \n",
              "29  Retired                                   \n",
              "30  Other.Employement                         \n",
              "⋮   ⋮                                         \n",
              "202 Public.Meeting                            \n",
              "203 Council.Meeting                           \n",
              "204 Contact.City.Official                     \n",
              "205 City.Election                             \n",
              "206 Focus.Group                               \n",
              "207 Informed                                  \n",
              "208 City.Effort.Satisfaction                  \n",
              "209 Paper..City.based.                        \n",
              "210 TV.Radio..City.based.                     \n",
              "211 Website..City.based.                      \n",
              "212 Social.Networks..City.based.              \n",
              "213 People..City.based.                       \n",
              "214 Other..City.based.                        \n",
              "215 Other.Description..City.based.            \n",
              "216 Paper..Non.city.based.Ethnic.             \n",
              "217 TV.Radio..Non.city.based.Ethnic.          \n",
              "218 Website..Non.city.based.Ethnic.           \n",
              "219 Social.Networks..Non.city.based.Ethnic.   \n",
              "220 People..Non.city.based.Ethnic.            \n",
              "221 Other..Non.city.based.Ethnic.             \n",
              "222 Other.Description..Non.city.based.Ethnic. \n",
              "223 Paper..Non.city.based.General.            \n",
              "224 TV.Radio..Non.city.based.General.         \n",
              "225 Website..Non.city.based.General.          \n",
              "226 Social.Networks..Non.city.based.General.  \n",
              "227 People..Non.city.based.General.           \n",
              "228 Other..Non.city.based.General.            \n",
              "229 Other.Description..Non.city.based.General.\n",
              "230 Preferred.Type                            \n",
              "231 Concerns                                  "
            ],
            "text/latex": "A data.frame: 231 × 1\n\\begin{tabular}{l}\n colnames(tib1)\\\\\n <chr>\\\\\n\\hline\n\t Survey.ID              \\\\\n\t Age                    \\\\\n\t Gender                 \\\\\n\t Ethnicity              \\\\\n\t Marital.Status         \\\\\n\t Education.Completed    \\\\\n\t Household.Size         \\\\\n\t No.One                 \\\\\n\t Spouse                 \\\\\n\t Children               \\\\\n\t Grand.Children         \\\\\n\t Parent                 \\\\\n\t Grandparent            \\\\\n\t Brother.Sister         \\\\\n\t Other.Relative         \\\\\n\t Friends                \\\\\n\t Other                  \\\\\n\t Other.Description      \\\\\n\t Religion               \\\\\n\t Religion.Other         \\\\\n\t Full.Time.Employment   \\\\\n\t Part.Time.Employment   \\\\\n\t Self.Employed.Full.Time\\\\\n\t Self.Employed.Part.Time\\\\\n\t Student                \\\\\n\t Homemaker              \\\\\n\t Disabled               \\\\\n\t Unemployed             \\\\\n\t Retired                \\\\\n\t Other.Employement      \\\\\n\t ⋮\\\\\n\t Public.Meeting                            \\\\\n\t Council.Meeting                           \\\\\n\t Contact.City.Official                     \\\\\n\t City.Election                             \\\\\n\t Focus.Group                               \\\\\n\t Informed                                  \\\\\n\t City.Effort.Satisfaction                  \\\\\n\t Paper..City.based.                        \\\\\n\t TV.Radio..City.based.                     \\\\\n\t Website..City.based.                      \\\\\n\t Social.Networks..City.based.              \\\\\n\t People..City.based.                       \\\\\n\t Other..City.based.                        \\\\\n\t Other.Description..City.based.            \\\\\n\t Paper..Non.city.based.Ethnic.             \\\\\n\t TV.Radio..Non.city.based.Ethnic.          \\\\\n\t Website..Non.city.based.Ethnic.           \\\\\n\t Social.Networks..Non.city.based.Ethnic.   \\\\\n\t People..Non.city.based.Ethnic.            \\\\\n\t Other..Non.city.based.Ethnic.             \\\\\n\t Other.Description..Non.city.based.Ethnic. \\\\\n\t Paper..Non.city.based.General.            \\\\\n\t TV.Radio..Non.city.based.General.         \\\\\n\t Website..Non.city.based.General.          \\\\\n\t Social.Networks..Non.city.based.General.  \\\\\n\t People..Non.city.based.General.           \\\\\n\t Other..Non.city.based.General.            \\\\\n\t Other.Description..Non.city.based.General.\\\\\n\t Preferred.Type                            \\\\\n\t Concerns                                  \\\\\n\\end{tabular}\n",
            "text/markdown": "\nA data.frame: 231 × 1\n\n| colnames(tib1) &lt;chr&gt; |\n|---|\n| Survey.ID               |\n| Age                     |\n| Gender                  |\n| Ethnicity               |\n| Marital.Status          |\n| Education.Completed     |\n| Household.Size          |\n| No.One                  |\n| Spouse                  |\n| Children                |\n| Grand.Children          |\n| Parent                  |\n| Grandparent             |\n| Brother.Sister          |\n| Other.Relative          |\n| Friends                 |\n| Other                   |\n| Other.Description       |\n| Religion                |\n| Religion.Other          |\n| Full.Time.Employment    |\n| Part.Time.Employment    |\n| Self.Employed.Full.Time |\n| Self.Employed.Part.Time |\n| Student                 |\n| Homemaker               |\n| Disabled                |\n| Unemployed              |\n| Retired                 |\n| Other.Employement       |\n| ⋮ |\n| Public.Meeting                             |\n| Council.Meeting                            |\n| Contact.City.Official                      |\n| City.Election                              |\n| Focus.Group                                |\n| Informed                                   |\n| City.Effort.Satisfaction                   |\n| Paper..City.based.                         |\n| TV.Radio..City.based.                      |\n| Website..City.based.                       |\n| Social.Networks..City.based.               |\n| People..City.based.                        |\n| Other..City.based.                         |\n| Other.Description..City.based.             |\n| Paper..Non.city.based.Ethnic.              |\n| TV.Radio..Non.city.based.Ethnic.           |\n| Website..Non.city.based.Ethnic.            |\n| Social.Networks..Non.city.based.Ethnic.    |\n| People..Non.city.based.Ethnic.             |\n| Other..Non.city.based.Ethnic.              |\n| Other.Description..Non.city.based.Ethnic.  |\n| Paper..Non.city.based.General.             |\n| TV.Radio..Non.city.based.General.          |\n| Website..Non.city.based.General.           |\n| Social.Networks..Non.city.based.General.   |\n| People..Non.city.based.General.            |\n| Other..Non.city.based.General.             |\n| Other.Description..Non.city.based.General. |\n| Preferred.Type                             |\n| Concerns                                   |\n\n",
            "text/html": [
              "<table class=\"dataframe\">\n",
              "<caption>A data.frame: 231 × 1</caption>\n",
              "<thead>\n",
              "\t<tr><th scope=col>colnames(tib1)</th></tr>\n",
              "\t<tr><th scope=col>&lt;chr&gt;</th></tr>\n",
              "</thead>\n",
              "<tbody>\n",
              "\t<tr><td>Survey.ID              </td></tr>\n",
              "\t<tr><td>Age                    </td></tr>\n",
              "\t<tr><td>Gender                 </td></tr>\n",
              "\t<tr><td>Ethnicity              </td></tr>\n",
              "\t<tr><td>Marital.Status         </td></tr>\n",
              "\t<tr><td>Education.Completed    </td></tr>\n",
              "\t<tr><td>Household.Size         </td></tr>\n",
              "\t<tr><td>No.One                 </td></tr>\n",
              "\t<tr><td>Spouse                 </td></tr>\n",
              "\t<tr><td>Children               </td></tr>\n",
              "\t<tr><td>Grand.Children         </td></tr>\n",
              "\t<tr><td>Parent                 </td></tr>\n",
              "\t<tr><td>Grandparent            </td></tr>\n",
              "\t<tr><td>Brother.Sister         </td></tr>\n",
              "\t<tr><td>Other.Relative         </td></tr>\n",
              "\t<tr><td>Friends                </td></tr>\n",
              "\t<tr><td>Other                  </td></tr>\n",
              "\t<tr><td>Other.Description      </td></tr>\n",
              "\t<tr><td>Religion               </td></tr>\n",
              "\t<tr><td>Religion.Other         </td></tr>\n",
              "\t<tr><td>Full.Time.Employment   </td></tr>\n",
              "\t<tr><td>Part.Time.Employment   </td></tr>\n",
              "\t<tr><td>Self.Employed.Full.Time</td></tr>\n",
              "\t<tr><td>Self.Employed.Part.Time</td></tr>\n",
              "\t<tr><td>Student                </td></tr>\n",
              "\t<tr><td>Homemaker              </td></tr>\n",
              "\t<tr><td>Disabled               </td></tr>\n",
              "\t<tr><td>Unemployed             </td></tr>\n",
              "\t<tr><td>Retired                </td></tr>\n",
              "\t<tr><td>Other.Employement      </td></tr>\n",
              "\t<tr><td>⋮</td></tr>\n",
              "\t<tr><td>Public.Meeting                            </td></tr>\n",
              "\t<tr><td>Council.Meeting                           </td></tr>\n",
              "\t<tr><td>Contact.City.Official                     </td></tr>\n",
              "\t<tr><td>City.Election                             </td></tr>\n",
              "\t<tr><td>Focus.Group                               </td></tr>\n",
              "\t<tr><td>Informed                                  </td></tr>\n",
              "\t<tr><td>City.Effort.Satisfaction                  </td></tr>\n",
              "\t<tr><td>Paper..City.based.                        </td></tr>\n",
              "\t<tr><td>TV.Radio..City.based.                     </td></tr>\n",
              "\t<tr><td>Website..City.based.                      </td></tr>\n",
              "\t<tr><td>Social.Networks..City.based.              </td></tr>\n",
              "\t<tr><td>People..City.based.                       </td></tr>\n",
              "\t<tr><td>Other..City.based.                        </td></tr>\n",
              "\t<tr><td>Other.Description..City.based.            </td></tr>\n",
              "\t<tr><td>Paper..Non.city.based.Ethnic.             </td></tr>\n",
              "\t<tr><td>TV.Radio..Non.city.based.Ethnic.          </td></tr>\n",
              "\t<tr><td>Website..Non.city.based.Ethnic.           </td></tr>\n",
              "\t<tr><td>Social.Networks..Non.city.based.Ethnic.   </td></tr>\n",
              "\t<tr><td>People..Non.city.based.Ethnic.            </td></tr>\n",
              "\t<tr><td>Other..Non.city.based.Ethnic.             </td></tr>\n",
              "\t<tr><td>Other.Description..Non.city.based.Ethnic. </td></tr>\n",
              "\t<tr><td>Paper..Non.city.based.General.            </td></tr>\n",
              "\t<tr><td>TV.Radio..Non.city.based.General.         </td></tr>\n",
              "\t<tr><td>Website..Non.city.based.General.          </td></tr>\n",
              "\t<tr><td>Social.Networks..Non.city.based.General.  </td></tr>\n",
              "\t<tr><td>People..Non.city.based.General.           </td></tr>\n",
              "\t<tr><td>Other..Non.city.based.General.            </td></tr>\n",
              "\t<tr><td>Other.Description..Non.city.based.General.</td></tr>\n",
              "\t<tr><td>Preferred.Type                            </td></tr>\n",
              "\t<tr><td>Concerns                                  </td></tr>\n",
              "</tbody>\n",
              "</table>\n"
            ]
          },
          "metadata": {}
        }
      ]
    },
    {
      "cell_type": "code",
      "metadata": {
        "colab": {
          "base_uri": "https://localhost:8080/",
          "height": 531
        },
        "id": "xMNj1U4zAmAa",
        "outputId": "2155e2d0-baac-4894-87ab-2cc3ab13be90"
      },
      "source": [
        "(others <- (grep(c(\"Other\"), colnames(tib1))))\n",
        "c(colnames(tib1)[others], \"Health.Info.Discription\",  \"Status.of.Ownership..Other.\")\n",
        "\n",
        "tib2 <- select(tib1, -c(c(colnames(tib1)[others], \"Health.Info.Discription\", \"Status.of.Ownership..Other.\", \"Preferred.Type\", \"Concerns\")))"
      ],
      "execution_count": null,
      "outputs": [
        {
          "output_type": "display_data",
          "data": {
            "text/plain": [
              " [1]  15  17  18  20  30  31  33  89 111 183 185 197 198 214 215 221 222 228 229"
            ],
            "text/latex": "\\begin{enumerate*}\n\\item 15\n\\item 17\n\\item 18\n\\item 20\n\\item 30\n\\item 31\n\\item 33\n\\item 89\n\\item 111\n\\item 183\n\\item 185\n\\item 197\n\\item 198\n\\item 214\n\\item 215\n\\item 221\n\\item 222\n\\item 228\n\\item 229\n\\end{enumerate*}\n",
            "text/markdown": "1. 15\n2. 17\n3. 18\n4. 20\n5. 30\n6. 31\n7. 33\n8. 89\n9. 111\n10. 183\n11. 185\n12. 197\n13. 198\n14. 214\n15. 215\n16. 221\n17. 222\n18. 228\n19. 229\n\n\n",
            "text/html": [
              "<style>\n",
              ".list-inline {list-style: none; margin:0; padding: 0}\n",
              ".list-inline>li {display: inline-block}\n",
              ".list-inline>li:not(:last-child)::after {content: \"\\00b7\"; padding: 0 .5ex}\n",
              "</style>\n",
              "<ol class=list-inline><li>15</li><li>17</li><li>18</li><li>20</li><li>30</li><li>31</li><li>33</li><li>89</li><li>111</li><li>183</li><li>185</li><li>197</li><li>198</li><li>214</li><li>215</li><li>221</li><li>222</li><li>228</li><li>229</li></ol>\n"
            ]
          },
          "metadata": {}
        },
        {
          "output_type": "display_data",
          "data": {
            "text/plain": [
              " [1] \"Other.Relative\"                            \n",
              " [2] \"Other\"                                     \n",
              " [3] \"Other.Description\"                         \n",
              " [4] \"Religion.Other\"                            \n",
              " [5] \"Other.Employement\"                         \n",
              " [6] \"Other.Employment.Description\"              \n",
              " [7] \"Occupation.Other\"                          \n",
              " [8] \"Other.1\"                                   \n",
              " [9] \"Concern.for.Others..AD.\"                   \n",
              "[10] \"Housing..Other.\"                           \n",
              "[11] \"Status.of.Ownership..Other.\"               \n",
              "[12] \"Other.Transportation\"                      \n",
              "[13] \"Other.Transportation.Description\"          \n",
              "[14] \"Other..City.based.\"                        \n",
              "[15] \"Other.Description..City.based.\"            \n",
              "[16] \"Other..Non.city.based.Ethnic.\"             \n",
              "[17] \"Other.Description..Non.city.based.Ethnic.\" \n",
              "[18] \"Other..Non.city.based.General.\"            \n",
              "[19] \"Other.Description..Non.city.based.General.\"\n",
              "[20] \"Health.Info.Discription\"                   \n",
              "[21] \"Status.of.Ownership..Other.\"               "
            ],
            "text/latex": "\\begin{enumerate*}\n\\item 'Other.Relative'\n\\item 'Other'\n\\item 'Other.Description'\n\\item 'Religion.Other'\n\\item 'Other.Employement'\n\\item 'Other.Employment.Description'\n\\item 'Occupation.Other'\n\\item 'Other.1'\n\\item 'Concern.for.Others..AD.'\n\\item 'Housing..Other.'\n\\item 'Status.of.Ownership..Other.'\n\\item 'Other.Transportation'\n\\item 'Other.Transportation.Description'\n\\item 'Other..City.based.'\n\\item 'Other.Description..City.based.'\n\\item 'Other..Non.city.based.Ethnic.'\n\\item 'Other.Description..Non.city.based.Ethnic.'\n\\item 'Other..Non.city.based.General.'\n\\item 'Other.Description..Non.city.based.General.'\n\\item 'Health.Info.Discription'\n\\item 'Status.of.Ownership..Other.'\n\\end{enumerate*}\n",
            "text/markdown": "1. 'Other.Relative'\n2. 'Other'\n3. 'Other.Description'\n4. 'Religion.Other'\n5. 'Other.Employement'\n6. 'Other.Employment.Description'\n7. 'Occupation.Other'\n8. 'Other.1'\n9. 'Concern.for.Others..AD.'\n10. 'Housing..Other.'\n11. 'Status.of.Ownership..Other.'\n12. 'Other.Transportation'\n13. 'Other.Transportation.Description'\n14. 'Other..City.based.'\n15. 'Other.Description..City.based.'\n16. 'Other..Non.city.based.Ethnic.'\n17. 'Other.Description..Non.city.based.Ethnic.'\n18. 'Other..Non.city.based.General.'\n19. 'Other.Description..Non.city.based.General.'\n20. 'Health.Info.Discription'\n21. 'Status.of.Ownership..Other.'\n\n\n",
            "text/html": [
              "<style>\n",
              ".list-inline {list-style: none; margin:0; padding: 0}\n",
              ".list-inline>li {display: inline-block}\n",
              ".list-inline>li:not(:last-child)::after {content: \"\\00b7\"; padding: 0 .5ex}\n",
              "</style>\n",
              "<ol class=list-inline><li>'Other.Relative'</li><li>'Other'</li><li>'Other.Description'</li><li>'Religion.Other'</li><li>'Other.Employement'</li><li>'Other.Employment.Description'</li><li>'Occupation.Other'</li><li>'Other.1'</li><li>'Concern.for.Others..AD.'</li><li>'Housing..Other.'</li><li>'Status.of.Ownership..Other.'</li><li>'Other.Transportation'</li><li>'Other.Transportation.Description'</li><li>'Other..City.based.'</li><li>'Other.Description..City.based.'</li><li>'Other..Non.city.based.Ethnic.'</li><li>'Other.Description..Non.city.based.Ethnic.'</li><li>'Other..Non.city.based.General.'</li><li>'Other.Description..Non.city.based.General.'</li><li>'Health.Info.Discription'</li><li>'Status.of.Ownership..Other.'</li></ol>\n"
            ]
          },
          "metadata": {}
        },
        {
          "output_type": "error",
          "ename": "ERROR",
          "evalue": "ignored",
          "traceback": [
            "Error: Can't subset columns that don't exist.\n\u001b[31m✖\u001b[39m Column `` doesn't exist.\nTraceback:\n",
            "1. select(tib1, -c(c(colnames(tib1)[others], \"Health.Info.Discription\", \n .     \"Status.of.Ownership..Other.\", \"\")))",
            "2. select.data.frame(tib1, -c(c(colnames(tib1)[others], \"Health.Info.Discription\", \n .     \"Status.of.Ownership..Other.\", \"\")))",
            "3. tidyselect::eval_select(expr(c(...)), .data)",
            "4. eval_select_impl(data, names(data), as_quosure(expr, env), include = include, \n .     exclude = exclude, strict = strict, name_spec = name_spec, \n .     allow_rename = allow_rename)",
            "5. with_subscript_errors(vars_select_eval(vars, expr, strict, data = x, \n .     name_spec = name_spec, uniquely_named = uniquely_named, allow_rename = allow_rename, \n .     type = type), type = type)",
            "6. tryCatch(instrument_base_errors(expr), vctrs_error_subscript = function(cnd) {\n .     cnd$subscript_action <- subscript_action(type)\n .     cnd$subscript_elt <- \"column\"\n .     cnd_signal(cnd)\n . })",
            "7. tryCatchList(expr, classes, parentenv, handlers)",
            "8. tryCatchOne(expr, names, parentenv, handlers[[1L]])",
            "9. value[[3L]](cond)",
            "10. cnd_signal(cnd)",
            "11. rlang:::signal_abort(x)"
          ]
        }
      ]
    },
    {
      "cell_type": "code",
      "metadata": {
        "id": "v9cI4zzcKc4Q"
      },
      "source": [
        ""
      ],
      "execution_count": null,
      "outputs": []
    }
  ]
}